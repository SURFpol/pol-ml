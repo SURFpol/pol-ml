{
 "cells": [
  {
   "cell_type": "code",
   "execution_count": null,
   "metadata": {},
   "outputs": [],
   "source": [
    "# Vereiste imports\n",
    "\n",
    "import io, PyPDF4, os, fitz, sys, re\n",
    "from PIL import Image,ImageOps"
   ]
  },
  {
   "cell_type": "code",
   "execution_count": null,
   "metadata": {},
   "outputs": [],
   "source": [
    "# Specificeer map die de PDFs bevat\n",
    "\n",
    "directory = \"/path/to/directory\""
   ]
  },
  {
   "cell_type": "code",
   "execution_count": null,
   "metadata": {},
   "outputs": [],
   "source": [
    "def extract_images(input_pdf):\n",
    "\n",
    "    checkXO = r\"/Type(?= */XObject)\"       # finds \"/Type/XObject\"   \n",
    "    checkIM = r\"/Subtype(?= */Image)\"      # finds \"/Subtype/Image\"\n",
    "\n",
    "    docs = fitz.open(input_pdf)\n",
    "    imgcount = 0\n",
    "    lenXREF = docs._getXrefLength()         # number of objects - do not use entry 0!\n",
    "\n",
    "    # display some file info\n",
    "    print(\"file: %s, pages: %s, objects: %s\" % (input_pdf, len(docs), lenXREF-1))\n",
    "\n",
    "    for i in range(1, lenXREF):            # scan through all objects\n",
    "        text = docs._getXrefString(i)     # string defining the object\n",
    "        isXObject = re.search(checkXO, text)    # tests for XObject\n",
    "        isImage   = re.search(checkIM, text)    # tests for Image\n",
    "        if not isXObject or not isImage:   # not an image object if not both True\n",
    "            continue\n",
    "        imgcount += 1\n",
    "        pix = fitz.Pixmap(docs, i)          # make pixmap from image\n",
    "        try:\n",
    "            pix0 = fitz.Pixmap(fitz.csRGB, pix)\n",
    "            pix0.writePNG((directory+\"/imgs/\"+filename+\"img-%s.png\") % (i,))\n",
    "        except Exception:\n",
    "            print(\"unable to extract image for\", input_pdf)\n",
    "        pix0 = None                    # free Pixmap resources\n",
    "        pix = None                         # free Pixmap resources\n",
    "\n",
    "    print(\"extracted images\", imgcount)"
   ]
  },
  {
   "cell_type": "code",
   "execution_count": null,
   "metadata": {},
   "outputs": [],
   "source": [
    "# Wanneer de map met output nog niet bestaat wordt deze aangemaakt\n",
    "\n",
    "if not os.path.exists(directory+\"/imgs/\"):\n",
    "    os.makedirs(directory+\"/imgs/\")\n",
    "\n",
    "# Run de code voor elk PDF-bestand in de map    \n",
    "    \n",
    "for filename in os.listdir(directory):\n",
    "    if filename.endswith((\".pdf\", \".PDF\")):\n",
    "        extract_images(directory+\"/\"+filename)"
   ]
  }
 ],
 "metadata": {
  "kernelspec": {
   "display_name": "Python 3",
   "language": "python",
   "name": "python3"
  },
  "language_info": {
   "codemirror_mode": {
    "name": "ipython",
    "version": 3
   },
   "file_extension": ".py",
   "mimetype": "text/x-python",
   "name": "python",
   "nbconvert_exporter": "python",
   "pygments_lexer": "ipython3",
   "version": "3.7.3"
  }
 },
 "nbformat": 4,
 "nbformat_minor": 2
}
