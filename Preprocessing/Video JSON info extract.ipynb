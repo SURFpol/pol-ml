{
 "cells": [
  {
   "cell_type": "code",
   "execution_count": null,
   "metadata": {},
   "outputs": [],
   "source": [
    "#Imports\n",
    "\n",
    "import json\n",
    "import pandas as pd\n",
    "from pandas.io.json import json_normalize"
   ]
  },
  {
   "cell_type": "code",
   "execution_count": null,
   "metadata": {},
   "outputs": [],
   "source": [
    "# Filepath naar JSON-bestand\n",
    "\n",
    "file = '/path/to/freeze.json'\n",
    "\n",
    "# Open JSON\n",
    "\n",
    "with open(file, 'r') as f:\n",
    "    loaded_json = json.load(f)"
   ]
  },
  {
   "cell_type": "code",
   "execution_count": null,
   "metadata": {},
   "outputs": [],
   "source": [
    "# List de verschillende velden uit het JSON-bestand\n",
    "\n",
    "for subentry in loaded_json:\n",
    "    print(subentry)"
   ]
  },
  {
   "cell_type": "code",
   "execution_count": null,
   "metadata": {},
   "outputs": [],
   "source": [
    "# Normaliseer de JSON, filter op relevante velden\n",
    "\n",
    "data = json_normalize(loaded_json['annotations'])\n",
    "data[['annotation','reference','name']]"
   ]
  },
  {
   "cell_type": "code",
   "execution_count": null,
   "metadata": {},
   "outputs": [],
   "source": [
    "# Check of de annotaties worden ingeladen\n",
    "\n",
    "list(data.loc[data.name == 'video_plain_text','annotation'])"
   ]
  },
  {
   "cell_type": "code",
   "execution_count": null,
   "metadata": {},
   "outputs": [],
   "source": [
    "# Normaliseer de inhoud van content in een apart dataframe\n",
    "\n",
    "data2 = json_normalize(loaded_json['content'])\n",
    "data2 = data2.fillna('None')\n",
    "data2 = data2[data2['properties.pipeline.download.resource'].apply(lambda x: 'pol_harvester.youtubedlresource' in x)]\n",
    "data2 = data2[~data2[\"properties.text\"].str.contains('None')]\n",
    "data2 = data2[['properties.id','properties.title','properties.text','properties.url','properties.language.from_text']]\n",
    "data2"
   ]
  },
  {
   "cell_type": "code",
   "execution_count": null,
   "metadata": {},
   "outputs": [],
   "source": [
    "# Genereer een lijst met titels van de video's\n",
    "\n",
    "title_list = data2[\"properties.title\"].tolist()"
   ]
  },
  {
   "cell_type": "code",
   "execution_count": null,
   "metadata": {},
   "outputs": [],
   "source": [
    "# Genereer een lijst met URLs naar de video's\n",
    "\n",
    "url_list = data2[\"properties.url\"].tolist()"
   ]
  },
  {
   "cell_type": "code",
   "execution_count": null,
   "metadata": {},
   "outputs": [],
   "source": [
    "# Genereer een lijst met video-annotaties\n",
    "\n",
    "annot_list = data2[\"properties.text\"].tolist()"
   ]
  },
  {
   "cell_type": "code",
   "execution_count": null,
   "metadata": {},
   "outputs": [],
   "source": [
    "# Controleer of de twee lijsten even groot zijn\n",
    "\n",
    "if len(title_list) == len(url_list) and len(title_list) == len(annot_list):\n",
    "    print(\"Lists are equal\")\n",
    "else:\n",
    "    print(\"Lists are not equal!\")"
   ]
  },
  {
   "cell_type": "code",
   "execution_count": null,
   "metadata": {},
   "outputs": [],
   "source": [
    "# Genereer dataframe met resultaat\n",
    "\n",
    "final_df = pd.DataFrame({'Title': title_list, 'URL': url_list, 'Text': annot_list})\n",
    "final_df"
   ]
  },
  {
   "cell_type": "code",
   "execution_count": null,
   "metadata": {},
   "outputs": [],
   "source": []
  }
 ],
 "metadata": {
  "kernelspec": {
   "display_name": "Python 3",
   "language": "python",
   "name": "python3"
  },
  "language_info": {
   "codemirror_mode": {
    "name": "ipython",
    "version": 3
   },
   "file_extension": ".py",
   "mimetype": "text/x-python",
   "name": "python",
   "nbconvert_exporter": "python",
   "pygments_lexer": "ipython3",
   "version": "3.7.3"
  }
 },
 "nbformat": 4,
 "nbformat_minor": 2
}
