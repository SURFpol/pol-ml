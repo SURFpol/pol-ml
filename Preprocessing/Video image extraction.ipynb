{
 "cells": [
  {
   "cell_type": "code",
   "execution_count": null,
   "metadata": {},
   "outputs": [],
   "source": [
    "# Vereiste imports\n",
    "\n",
    "import cv2, json, os\n",
    "from pandas.io.json import json_normalize\n",
    "from pytube import YouTube"
   ]
  },
  {
   "cell_type": "code",
   "execution_count": null,
   "metadata": {},
   "outputs": [],
   "source": [
    "# Vermelding naar de freeze-JSON\n",
    "\n",
    "file = '/path/to/freeze.json'\n",
    "\n",
    "# Haal alle Youtube-URLs uit de JSON\n",
    "\n",
    "with open(file, 'r') as f:\n",
    "    loaded_json = json.load(f)\n",
    "\n",
    "json_normalize(loaded_json)\n",
    "data = json_normalize(loaded_json['annotations'])\n",
    "datay = json_normalize(loaded_json['content'])\n",
    "datay = datay.fillna('None')\n",
    "datay = datay[datay['properties.pipeline.download.resource'].apply(lambda x: 'pol_harvester.youtubedlresource' in x)]\n",
    "datay = datay[~datay[\"properties.text\"].str.contains('None')]\n",
    "datay = datay[['properties.id','properties.title','properties.text','properties.url','properties.language.from_text']]\n",
    "\n",
    "url_list = datay[\"properties.url\"].tolist()\n",
    "url_list_2 = []\n",
    "\n",
    "for url in url_list:\n",
    "    if \"youtu\" in url:\n",
    "        url_list_2.append(url)"
   ]
  },
  {
   "cell_type": "code",
   "execution_count": null,
   "metadata": {},
   "outputs": [],
   "source": [
    "# Genereer voor elke video 3 frames\n",
    "\n",
    "count = 0\n",
    "for url in url_list_2:\n",
    "    count += 1\n",
    "    yt = YouTube(url)\n",
    "    video = yt.streams.get_by_itag(18).download()\n",
    "    cap = cv2.VideoCapture(video)\n",
    "    length = int(cap.get(cv2.CAP_PROP_FRAME_COUNT))\n",
    "    frameno=int(length/4)\n",
    "    cap.set(1,frameno); \n",
    "    ret, frame = cap.read() \n",
    "    filename = \"{0}_{1}.jpg\".format(count,frameno)\n",
    "    cv2.imwrite(filename, frame)\n",
    "    frameno=int((length/4)*2)\n",
    "    cap.set(1,frameno); \n",
    "    ret, frame = cap.read()\n",
    "    filename = \"{0}_{1}.jpg\".format(count,frameno)\n",
    "    cv2.imwrite(filename, frame)\n",
    "    frameno=int((length/4)*3)\n",
    "    cap.set(1,frameno);\n",
    "    ret, frame = cap.read()\n",
    "    filename = \"{0}_{1}.jpg\".format(count,frameno)\n",
    "    cv2.imwrite(filename, frame)\n",
    "    os.remove(video)"
   ]
  }
 ],
 "metadata": {
  "kernelspec": {
   "display_name": "Python 3",
   "language": "python",
   "name": "python3"
  },
  "language_info": {
   "codemirror_mode": {
    "name": "ipython",
    "version": 3
   },
   "file_extension": ".py",
   "mimetype": "text/x-python",
   "name": "python",
   "nbconvert_exporter": "python",
   "pygments_lexer": "ipython3",
   "version": "3.7.3"
  }
 },
 "nbformat": 4,
 "nbformat_minor": 2
}
